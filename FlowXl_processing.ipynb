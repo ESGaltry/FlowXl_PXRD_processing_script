{
 "cells": [
  {
   "cell_type": "markdown",
   "id": "eda25d24",
   "metadata": {},
   "source": [
    "# Flow-Xl with Python \n",
    "### Need exported frame from the Frame Selector and Powder Extraction Tools from CrysAlisPro"
   ]
  },
  {
   "cell_type": "markdown",
   "id": "184b0579",
   "metadata": {},
   "source": [
    "## Import modules"
   ]
  },
  {
   "cell_type": "code",
   "execution_count": null,
   "id": "c9c987ea",
   "metadata": {},
   "outputs": [],
   "source": [
    "import numpy as np\n",
    "import matplotlib.pyplot as plt\n",
    "import h5py\n",
    "import os\n",
    "import matplotlib as mpl\n",
    "import pandas as pd        \n",
    "import math\n",
    "import tifffile\n",
    "import re\n",
    "\n",
    "import sys\n",
    "!{sys.executable} -m pip install pyFAI\n",
    "import pyFAI\n",
    "from pyFAI.gui import jupyter\n",
    "\n",
    "!{sys.executable} -m pip install pybaselines\n",
    "from pybaselines import Baseline\n",
    "from pybaselines.utils import gaussian\n",
    "\n",
    "pi = math.pi"
   ]
  },
  {
   "cell_type": "markdown",
   "id": "6b4e0a33",
   "metadata": {},
   "source": [
    "# Load calibration file\n",
    "### calibrated using pyFAI-calib2 tool\n",
    "\n",
    "### pyFAI: https://pyfai.readthedocs.io/en/v2023.1/"
   ]
  },
  {
   "cell_type": "code",
   "execution_count": null,
   "id": "000028c2",
   "metadata": {},
   "outputs": [],
   "source": [
    "#load mask for detector frame\n",
    "oneD_mask = np.load(\"C:/mask/file/location/mask.npy\")"
   ]
  },
  {
   "cell_type": "code",
   "execution_count": null,
   "id": "6da5e24e",
   "metadata": {},
   "outputs": [],
   "source": [
    "# load the calibration .poni file with incorrect detector distance\n",
    "calibration = pyFAI.load('C:/poni/file/location/calibration.poni')\n",
    "calibration"
   ]
  },
  {
   "cell_type": "code",
   "execution_count": null,
   "id": "60c3f0fa",
   "metadata": {},
   "outputs": [],
   "source": [
    "# specify the correct detector distance (in mm)\n",
    "\n",
    "new_dist1 = 60.136392395540156\n"
   ]
  },
  {
   "cell_type": "code",
   "execution_count": null,
   "id": "700c7691",
   "metadata": {},
   "outputs": [],
   "source": [
    "# set the correct distance\n",
    "\n",
    "calibration.set_dist(new_dist1 / 1000)\n",
    "calibration"
   ]
  },
  {
   "cell_type": "markdown",
   "id": "a0955e2e",
   "metadata": {},
   "source": [
    "## importing detector frames"
   ]
  },
  {
   "cell_type": "code",
   "execution_count": null,
   "id": "e1b7817d",
   "metadata": {},
   "outputs": [],
   "source": [
    "collection_dir = \"D:/path/to/your/data/directory/\"\n",
    "\n",
    "processing_dir = \"D:/path/to/your/processing/directory/\"\n",
    "\n",
    "collection_name = \"your_dataset_name.tiff\"\n",
    "\n",
    "collection = os.path.join(collection_dir,collection_name)\n",
    "\n",
    "original_pattern = np.loadtxt(os.path.join(processing_dir,\"GLY9_1_10Threshold_11_incorrectDist.xy\"))\n",
    "original_pattern"
   ]
  },
  {
   "cell_type": "code",
   "execution_count": null,
   "id": "b8f96b19",
   "metadata": {},
   "outputs": [],
   "source": [
    "# read tiff file\n",
    "\n",
    "tiff = tifffile.imread(collection)\n",
    "tiff"
   ]
  },
  {
   "cell_type": "code",
   "execution_count": null,
   "id": "4b714d82",
   "metadata": {},
   "outputs": [],
   "source": [
    "# display overlaid frame\n",
    "\n",
    "plt.figure(figsize=(14, 14))\n",
    "\n",
    "plt.imshow(tiff, cmap='gray', vmin=0, vmax=np.max(tiff))\n",
    "plt.colorbar()\n",
    "plt.title(collection_name[:-5])  \n",
    "\n"
   ]
  },
  {
   "cell_type": "markdown",
   "id": "f773fef7",
   "metadata": {},
   "source": [
    "# Integration using pyFAI module\n",
    "### pyFAI: https://pyfai.readthedocs.io/en/v2023.1/"
   ]
  },
  {
   "cell_type": "code",
   "execution_count": null,
   "id": "10b45543",
   "metadata": {},
   "outputs": [],
   "source": [
    "# integration with the corrected detector distance\n",
    "pattern1 = calibration.integrate1d(tiff, 1500, unit=pyFAI.units.TTH_DEG, radial_range=[2,43], mask=oneD_mask) \n",
    "\n",
    "x1 = pattern1[0]\n",
    "y1 = pattern1[1]\n",
    "\n",
    "baseline_fitter1 = Baseline(x_data=x1)\n",
    "pattern1"
   ]
  },
  {
   "cell_type": "markdown",
   "id": "f01f8e31",
   "metadata": {},
   "source": [
    "# Baseline correction\n",
    "### using https://pybaselines.readthedocs.io/en/latest/ mor() baseline correction"
   ]
  },
  {
   "cell_type": "code",
   "execution_count": null,
   "id": "e2ec7741",
   "metadata": {},
   "outputs": [],
   "source": [
    "# display baseline correction fitting against raw integrated pattern\n",
    "# modify half_window to change best fit\n",
    "\n",
    "half_window = 35\n",
    "\n",
    "\n",
    "# Create a new figure\n",
    "plt.figure(figsize=(14, 14))\n",
    "plt.xlabel('$2\\\\theta$ ($^{o}$)')\n",
    "plt.ylabel('Intensity')\n",
    "plt.xlim(4, 40)\n",
    "\n",
    "plt.plot(x1, y1, label=data_name1)\n",
    "plt.plot(x1, baseline_fitter1.mor(y1, half_window=half_window)[0], label=format(f'{data_name1} w/ half window= {half_window}'))\n",
    "\n",
    "\n",
    "corrected_data1 = y1 - baseline_fitter1.mor(y1, half_window=half_window)[0]\n",
    "\n",
    "plt.plot(x1, corrected_data1, label=format(f'Corrected data {data_name1} w/ half window= {half_window}'))\n",
    "\n",
    "plt.legend()\n"
   ]
  },
  {
   "cell_type": "code",
   "execution_count": null,
   "id": "0982d687",
   "metadata": {},
   "outputs": [],
   "source": [
    "dataset_path1= processing_dir + data_name1 +\".xy\"\n",
    "print(dataset_path1)"
   ]
  },
  {
   "cell_type": "code",
   "execution_count": null,
   "id": "8e569ac2",
   "metadata": {},
   "outputs": [],
   "source": [
    "# export processed data as an .xy file\n",
    "np.savetxt(dataset_path1, np.c_[x1,corrected_data1])"
   ]
  }
 ],
 "metadata": {
  "kernelspec": {
   "display_name": "Python 3 (ipykernel)",
   "language": "python",
   "name": "python3"
  },
  "language_info": {
   "codemirror_mode": {
    "name": "ipython",
    "version": 3
   },
   "file_extension": ".py",
   "mimetype": "text/x-python",
   "name": "python",
   "nbconvert_exporter": "python",
   "pygments_lexer": "ipython3",
   "version": "3.9.12"
  }
 },
 "nbformat": 4,
 "nbformat_minor": 5
}
